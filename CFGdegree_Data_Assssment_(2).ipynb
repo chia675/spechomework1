{
  "cells": [
    {
      "cell_type": "markdown",
      "metadata": {
        "id": "l7p-vJ3P2-Qq"
      },
      "source": [
        "1. PANDAS (25 points)"
      ]
    },
    {
      "cell_type": "code",
      "execution_count": 2,
      "metadata": {
        "id": "IlNehLzE2r2E",
        "colab": {
          "base_uri": "https://localhost:8080/"
        },
        "outputId": "2ef900d1-820c-4fd7-fb39-9c0da92f0074"
      },
      "outputs": [
        {
          "output_type": "stream",
          "name": "stdout",
          "text": [
            "  show_id     type                  title         director  \\\n",
            "0      s1    Movie   Dick Johnson Is Dead  Kirsten Johnson   \n",
            "1      s2  TV Show          Blood & Water              NaN   \n",
            "2      s3  TV Show              Ganglands  Julien Leclercq   \n",
            "3      s4  TV Show  Jailbirds New Orleans              NaN   \n",
            "4      s5  TV Show           Kota Factory              NaN   \n",
            "\n",
            "                                                cast        country  \\\n",
            "0                                                NaN  United States   \n",
            "1  Ama Qamata, Khosi Ngema, Gail Mabalane, Thaban...   South Africa   \n",
            "2  Sami Bouajila, Tracy Gotoas, Samuel Jouy, Nabi...            NaN   \n",
            "3                                                NaN            NaN   \n",
            "4  Mayur More, Jitendra Kumar, Ranjan Raj, Alam K...          India   \n",
            "\n",
            "           date_added  release_year rating   duration  \\\n",
            "0  September 25, 2021          2020  PG-13     90 min   \n",
            "1  September 24, 2021          2021  TV-MA  2 Seasons   \n",
            "2  September 24, 2021          2021  TV-MA   1 Season   \n",
            "3  September 24, 2021          2021  TV-MA   1 Season   \n",
            "4  September 24, 2021          2021  TV-MA  2 Seasons   \n",
            "\n",
            "                                           listed_in  \\\n",
            "0                                      Documentaries   \n",
            "1    International TV Shows, TV Dramas, TV Mysteries   \n",
            "2  Crime TV Shows, International TV Shows, TV Act...   \n",
            "3                             Docuseries, Reality TV   \n",
            "4  International TV Shows, Romantic TV Shows, TV ...   \n",
            "\n",
            "                                         description  \n",
            "0  As her father nears the end of his life, filmm...  \n",
            "1  After crossing paths at a party, a Cape Town t...  \n",
            "2  To protect his family from a powerful drug lor...  \n",
            "3  Feuds, flirtations and toilet talk go down amo...  \n",
            "4  In a city of coaching centers known to train I...  \n"
          ]
        }
      ],
      "source": [
        "# 1 (2 marks). Load the netflix_titles.csv dataset as a Pandas dataframe:\n",
        "import pandas as pd\n",
        "netflix_df = pd.read_csv('/content/netflix_titles.csv')\n",
        "print(netflix_df.head())\n"
      ]
    },
    {
      "cell_type": "code",
      "execution_count": 5,
      "metadata": {
        "id": "PnUVU19y47mA",
        "colab": {
          "base_uri": "https://localhost:8080/"
        },
        "outputId": "c64c2544-a90a-485f-df98-a5c6da30ed2c"
      },
      "outputs": [
        {
          "output_type": "stream",
          "name": "stdout",
          "text": [
            "  show_id     type                             title  \\\n",
            "0      s1    Movie              Dick Johnson Is Dead   \n",
            "1      s2  TV Show                     Blood & Water   \n",
            "2      s3  TV Show                         Ganglands   \n",
            "3      s4  TV Show             Jailbirds New Orleans   \n",
            "4      s5  TV Show                      Kota Factory   \n",
            "5      s6  TV Show                     Midnight Mass   \n",
            "6      s7    Movie  My Little Pony: A New Generation   \n",
            "7      s8    Movie                           Sankofa   \n",
            "8      s9  TV Show     The Great British Baking Show   \n",
            "9     s10    Movie                      The Starling   \n",
            "\n",
            "                        director  \\\n",
            "0                Kirsten Johnson   \n",
            "1                            NaN   \n",
            "2                Julien Leclercq   \n",
            "3                            NaN   \n",
            "4                            NaN   \n",
            "5                  Mike Flanagan   \n",
            "6  Robert Cullen, José Luis Ucha   \n",
            "7                   Haile Gerima   \n",
            "8                Andy Devonshire   \n",
            "9                 Theodore Melfi   \n",
            "\n",
            "                                                cast  \\\n",
            "0                                                NaN   \n",
            "1  Ama Qamata, Khosi Ngema, Gail Mabalane, Thaban...   \n",
            "2  Sami Bouajila, Tracy Gotoas, Samuel Jouy, Nabi...   \n",
            "3                                                NaN   \n",
            "4  Mayur More, Jitendra Kumar, Ranjan Raj, Alam K...   \n",
            "5  Kate Siegel, Zach Gilford, Hamish Linklater, H...   \n",
            "6  Vanessa Hudgens, Kimiko Glenn, James Marsden, ...   \n",
            "7  Kofi Ghanaba, Oyafunmike Ogunlano, Alexandra D...   \n",
            "8  Mel Giedroyc, Sue Perkins, Mary Berry, Paul Ho...   \n",
            "9  Melissa McCarthy, Chris O'Dowd, Kevin Kline, T...   \n",
            "\n",
            "                                             country          date_added  \\\n",
            "0                                      United States  September 25, 2021   \n",
            "1                                       South Africa  September 24, 2021   \n",
            "2                                                NaN  September 24, 2021   \n",
            "3                                                NaN  September 24, 2021   \n",
            "4                                              India  September 24, 2021   \n",
            "5                                                NaN  September 24, 2021   \n",
            "6                                                NaN  September 24, 2021   \n",
            "7  United States, Ghana, Burkina Faso, United Kin...  September 24, 2021   \n",
            "8                                     United Kingdom  September 24, 2021   \n",
            "9                                      United States  September 24, 2021   \n",
            "\n",
            "   release_year rating   duration  \\\n",
            "0          2020  PG-13     90 min   \n",
            "1          2021  TV-MA  2 Seasons   \n",
            "2          2021  TV-MA   1 Season   \n",
            "3          2021  TV-MA   1 Season   \n",
            "4          2021  TV-MA  2 Seasons   \n",
            "5          2021  TV-MA   1 Season   \n",
            "6          2021     PG     91 min   \n",
            "7          1993  TV-MA    125 min   \n",
            "8          2021  TV-14  9 Seasons   \n",
            "9          2021  PG-13    104 min   \n",
            "\n",
            "                                           listed_in  \\\n",
            "0                                      Documentaries   \n",
            "1    International TV Shows, TV Dramas, TV Mysteries   \n",
            "2  Crime TV Shows, International TV Shows, TV Act...   \n",
            "3                             Docuseries, Reality TV   \n",
            "4  International TV Shows, Romantic TV Shows, TV ...   \n",
            "5                 TV Dramas, TV Horror, TV Mysteries   \n",
            "6                           Children & Family Movies   \n",
            "7   Dramas, Independent Movies, International Movies   \n",
            "8                       British TV Shows, Reality TV   \n",
            "9                                   Comedies, Dramas   \n",
            "\n",
            "                                         description  \n",
            "0  As her father nears the end of his life, filmm...  \n",
            "1  After crossing paths at a party, a Cape Town t...  \n",
            "2  To protect his family from a powerful drug lor...  \n",
            "3  Feuds, flirtations and toilet talk go down amo...  \n",
            "4  In a city of coaching centers known to train I...  \n",
            "5  The arrival of a charismatic young priest brin...  \n",
            "6  Equestria's divided. But a bright-eyed hero be...  \n",
            "7  On a photo shoot in Ghana, an American model s...  \n",
            "8  A talented batch of amateur bakers face off in...  \n",
            "9  A woman adjusting to life after a loss contend...  \n"
          ]
        }
      ],
      "source": [
        "# 2 (2 marks). Show the first 10 rows of the dataset\n",
        "print(netflix_df.head(10))"
      ]
    },
    {
      "cell_type": "code",
      "execution_count": 6,
      "metadata": {
        "id": "E7ocCcU95pTi",
        "colab": {
          "base_uri": "https://localhost:8080/"
        },
        "outputId": "be65ee58-ca32-4e94-edd2-3f453cc1b71d"
      },
      "outputs": [
        {
          "output_type": "stream",
          "name": "stdout",
          "text": [
            "     show_id     type        title         director  \\\n",
            "8802   s8803    Movie       Zodiac    David Fincher   \n",
            "8803   s8804  TV Show  Zombie Dumb              NaN   \n",
            "8804   s8805    Movie   Zombieland  Ruben Fleischer   \n",
            "8805   s8806    Movie         Zoom     Peter Hewitt   \n",
            "8806   s8807    Movie       Zubaan      Mozez Singh   \n",
            "\n",
            "                                                   cast        country  \\\n",
            "8802  Mark Ruffalo, Jake Gyllenhaal, Robert Downey J...  United States   \n",
            "8803                                                NaN            NaN   \n",
            "8804  Jesse Eisenberg, Woody Harrelson, Emma Stone, ...  United States   \n",
            "8805  Tim Allen, Courteney Cox, Chevy Chase, Kate Ma...  United States   \n",
            "8806  Vicky Kaushal, Sarah-Jane Dias, Raaghav Chanan...          India   \n",
            "\n",
            "             date_added  release_year rating   duration  \\\n",
            "8802  November 20, 2019          2007      R    158 min   \n",
            "8803       July 1, 2019          2018  TV-Y7  2 Seasons   \n",
            "8804   November 1, 2019          2009      R     88 min   \n",
            "8805   January 11, 2020          2006     PG     88 min   \n",
            "8806      March 2, 2019          2015  TV-14    111 min   \n",
            "\n",
            "                                           listed_in  \\\n",
            "8802                  Cult Movies, Dramas, Thrillers   \n",
            "8803          Kids' TV, Korean TV Shows, TV Comedies   \n",
            "8804                         Comedies, Horror Movies   \n",
            "8805              Children & Family Movies, Comedies   \n",
            "8806  Dramas, International Movies, Music & Musicals   \n",
            "\n",
            "                                            description  \n",
            "8802  A political cartoonist, a crime reporter and a...  \n",
            "8803  While living alone in a spooky town, a young g...  \n",
            "8804  Looking to survive in a world taken over by zo...  \n",
            "8805  Dragged from civilian life, a former superhero...  \n",
            "8806  A scrappy but poor boy worms his way into a ty...  \n"
          ]
        }
      ],
      "source": [
        "# 3 (1 mark). Show the last 5 rows\n",
        "print(netflix_df.tail(5))\n"
      ]
    },
    {
      "cell_type": "code",
      "execution_count": 7,
      "metadata": {
        "id": "eu2P4L0_5ycI",
        "colab": {
          "base_uri": "https://localhost:8080/"
        },
        "outputId": "b79f4608-5d66-4757-8d16-ab9c3f09bace"
      },
      "outputs": [
        {
          "output_type": "stream",
          "name": "stdout",
          "text": [
            "Number of rows with no missing values: 5332\n",
            "\n",
            "Dataframe with no missing values:\n",
            "      show_id     type                          title             director  \\\n",
            "7         s8    Movie                        Sankofa         Haile Gerima   \n",
            "8         s9  TV Show  The Great British Baking Show      Andy Devonshire   \n",
            "9        s10    Movie                   The Starling       Theodore Melfi   \n",
            "12       s13    Movie                   Je Suis Karl  Christian Schwochow   \n",
            "24       s25    Movie                          Jeans           S. Shankar   \n",
            "...      ...      ...                            ...                  ...   \n",
            "8801   s8802    Movie                        Zinzana      Majid Al Ansari   \n",
            "8802   s8803    Movie                         Zodiac        David Fincher   \n",
            "8804   s8805    Movie                     Zombieland      Ruben Fleischer   \n",
            "8805   s8806    Movie                           Zoom         Peter Hewitt   \n",
            "8806   s8807    Movie                         Zubaan          Mozez Singh   \n",
            "\n",
            "                                                   cast  \\\n",
            "7     Kofi Ghanaba, Oyafunmike Ogunlano, Alexandra D...   \n",
            "8     Mel Giedroyc, Sue Perkins, Mary Berry, Paul Ho...   \n",
            "9     Melissa McCarthy, Chris O'Dowd, Kevin Kline, T...   \n",
            "12    Luna Wedler, Jannis Niewöhner, Milan Peschel, ...   \n",
            "24    Prashanth, Aishwarya Rai Bachchan, Sri Lakshmi...   \n",
            "...                                                 ...   \n",
            "8801  Ali Suliman, Saleh Bakri, Yasa, Ali Al-Jabri, ...   \n",
            "8802  Mark Ruffalo, Jake Gyllenhaal, Robert Downey J...   \n",
            "8804  Jesse Eisenberg, Woody Harrelson, Emma Stone, ...   \n",
            "8805  Tim Allen, Courteney Cox, Chevy Chase, Kate Ma...   \n",
            "8806  Vicky Kaushal, Sarah-Jane Dias, Raaghav Chanan...   \n",
            "\n",
            "                                                country          date_added  \\\n",
            "7     United States, Ghana, Burkina Faso, United Kin...  September 24, 2021   \n",
            "8                                        United Kingdom  September 24, 2021   \n",
            "9                                         United States  September 24, 2021   \n",
            "12                              Germany, Czech Republic  September 23, 2021   \n",
            "24                                                India  September 21, 2021   \n",
            "...                                                 ...                 ...   \n",
            "8801                       United Arab Emirates, Jordan       March 9, 2016   \n",
            "8802                                      United States   November 20, 2019   \n",
            "8804                                      United States    November 1, 2019   \n",
            "8805                                      United States    January 11, 2020   \n",
            "8806                                              India       March 2, 2019   \n",
            "\n",
            "      release_year rating   duration  \\\n",
            "7             1993  TV-MA    125 min   \n",
            "8             2021  TV-14  9 Seasons   \n",
            "9             2021  PG-13    104 min   \n",
            "12            2021  TV-MA    127 min   \n",
            "24            1998  TV-14    166 min   \n",
            "...            ...    ...        ...   \n",
            "8801          2015  TV-MA     96 min   \n",
            "8802          2007      R    158 min   \n",
            "8804          2009      R     88 min   \n",
            "8805          2006     PG     88 min   \n",
            "8806          2015  TV-14    111 min   \n",
            "\n",
            "                                             listed_in  \\\n",
            "7     Dramas, Independent Movies, International Movies   \n",
            "8                         British TV Shows, Reality TV   \n",
            "9                                     Comedies, Dramas   \n",
            "12                        Dramas, International Movies   \n",
            "24     Comedies, International Movies, Romantic Movies   \n",
            "...                                                ...   \n",
            "8801           Dramas, International Movies, Thrillers   \n",
            "8802                    Cult Movies, Dramas, Thrillers   \n",
            "8804                           Comedies, Horror Movies   \n",
            "8805                Children & Family Movies, Comedies   \n",
            "8806    Dramas, International Movies, Music & Musicals   \n",
            "\n",
            "                                            description  \n",
            "7     On a photo shoot in Ghana, an American model s...  \n",
            "8     A talented batch of amateur bakers face off in...  \n",
            "9     A woman adjusting to life after a loss contend...  \n",
            "12    After most of her family is murdered in a terr...  \n",
            "24    When the father of the man she loves insists t...  \n",
            "...                                                 ...  \n",
            "8801  Recovering alcoholic Talal wakes up inside a s...  \n",
            "8802  A political cartoonist, a crime reporter and a...  \n",
            "8804  Looking to survive in a world taken over by zo...  \n",
            "8805  Dragged from civilian life, a former superhero...  \n",
            "8806  A scrappy but poor boy worms his way into a ty...  \n",
            "\n",
            "[5332 rows x 12 columns]\n"
          ]
        }
      ],
      "source": [
        "# 4 (4 marks). Count the number of rows which have no missing value in any of the columns, and show the resulting data frame.\n",
        "no_missing_values_count = netflix_df.dropna().shape[0]\n",
        "\n",
        "no_missing_values_df = netflix_df.dropna()\n",
        "\n",
        "print('Number of rows with no missing values:', no_missing_values_count)\n",
        "print('\\nDataframe with no missing values:\\n', no_missing_values_df)\n"
      ]
    },
    {
      "cell_type": "code",
      "execution_count": 8,
      "metadata": {
        "id": "S66_Tlas6yeC",
        "colab": {
          "base_uri": "https://localhost:8080/"
        },
        "outputId": "2b77dac5-69ac-49db-d1d9-a19e24454e5b"
      },
      "outputs": [
        {
          "output_type": "stream",
          "name": "stdout",
          "text": [
            "     show_id   type                             title  \\\n",
            "0         s1  Movie              Dick Johnson Is Dead   \n",
            "6         s7  Movie  My Little Pony: A New Generation   \n",
            "7         s8  Movie                           Sankofa   \n",
            "9        s10  Movie                      The Starling   \n",
            "12       s13  Movie                      Je Suis Karl   \n",
            "...      ...    ...                               ...   \n",
            "8801   s8802  Movie                           Zinzana   \n",
            "8802   s8803  Movie                            Zodiac   \n",
            "8804   s8805  Movie                        Zombieland   \n",
            "8805   s8806  Movie                              Zoom   \n",
            "8806   s8807  Movie                            Zubaan   \n",
            "\n",
            "                           director  \\\n",
            "0                   Kirsten Johnson   \n",
            "6     Robert Cullen, José Luis Ucha   \n",
            "7                      Haile Gerima   \n",
            "9                    Theodore Melfi   \n",
            "12              Christian Schwochow   \n",
            "...                             ...   \n",
            "8801                Majid Al Ansari   \n",
            "8802                  David Fincher   \n",
            "8804                Ruben Fleischer   \n",
            "8805                   Peter Hewitt   \n",
            "8806                    Mozez Singh   \n",
            "\n",
            "                                                   cast  \\\n",
            "0                                                   NaN   \n",
            "6     Vanessa Hudgens, Kimiko Glenn, James Marsden, ...   \n",
            "7     Kofi Ghanaba, Oyafunmike Ogunlano, Alexandra D...   \n",
            "9     Melissa McCarthy, Chris O'Dowd, Kevin Kline, T...   \n",
            "12    Luna Wedler, Jannis Niewöhner, Milan Peschel, ...   \n",
            "...                                                 ...   \n",
            "8801  Ali Suliman, Saleh Bakri, Yasa, Ali Al-Jabri, ...   \n",
            "8802  Mark Ruffalo, Jake Gyllenhaal, Robert Downey J...   \n",
            "8804  Jesse Eisenberg, Woody Harrelson, Emma Stone, ...   \n",
            "8805  Tim Allen, Courteney Cox, Chevy Chase, Kate Ma...   \n",
            "8806  Vicky Kaushal, Sarah-Jane Dias, Raaghav Chanan...   \n",
            "\n",
            "                                                country          date_added  \\\n",
            "0                                         United States  September 25, 2021   \n",
            "6                                                   NaN  September 24, 2021   \n",
            "7     United States, Ghana, Burkina Faso, United Kin...  September 24, 2021   \n",
            "9                                         United States  September 24, 2021   \n",
            "12                              Germany, Czech Republic  September 23, 2021   \n",
            "...                                                 ...                 ...   \n",
            "8801                       United Arab Emirates, Jordan       March 9, 2016   \n",
            "8802                                      United States   November 20, 2019   \n",
            "8804                                      United States    November 1, 2019   \n",
            "8805                                      United States    January 11, 2020   \n",
            "8806                                              India       March 2, 2019   \n",
            "\n",
            "      release_year rating duration  \\\n",
            "0             2020  PG-13   90 min   \n",
            "6             2021     PG   91 min   \n",
            "7             1993  TV-MA  125 min   \n",
            "9             2021  PG-13  104 min   \n",
            "12            2021  TV-MA  127 min   \n",
            "...            ...    ...      ...   \n",
            "8801          2015  TV-MA   96 min   \n",
            "8802          2007      R  158 min   \n",
            "8804          2009      R   88 min   \n",
            "8805          2006     PG   88 min   \n",
            "8806          2015  TV-14  111 min   \n",
            "\n",
            "                                             listed_in  \\\n",
            "0                                        Documentaries   \n",
            "6                             Children & Family Movies   \n",
            "7     Dramas, Independent Movies, International Movies   \n",
            "9                                     Comedies, Dramas   \n",
            "12                        Dramas, International Movies   \n",
            "...                                                ...   \n",
            "8801           Dramas, International Movies, Thrillers   \n",
            "8802                    Cult Movies, Dramas, Thrillers   \n",
            "8804                           Comedies, Horror Movies   \n",
            "8805                Children & Family Movies, Comedies   \n",
            "8806    Dramas, International Movies, Music & Musicals   \n",
            "\n",
            "                                            description  \n",
            "0     As her father nears the end of his life, filmm...  \n",
            "6     Equestria's divided. But a bright-eyed hero be...  \n",
            "7     On a photo shoot in Ghana, an American model s...  \n",
            "9     A woman adjusting to life after a loss contend...  \n",
            "12    After most of her family is murdered in a terr...  \n",
            "...                                                 ...  \n",
            "8801  Recovering alcoholic Talal wakes up inside a s...  \n",
            "8802  A political cartoonist, a crime reporter and a...  \n",
            "8804  Looking to survive in a world taken over by zo...  \n",
            "8805  Dragged from civilian life, a former superhero...  \n",
            "8806  A scrappy but poor boy worms his way into a ty...  \n",
            "\n",
            "[6131 rows x 12 columns]\n"
          ]
        }
      ],
      "source": [
        "# 5 (3 marks). Drop everything that is not a 'Movie' and show the resulting data frame.\n",
        "movie_df = netflix_df[netflix_df['type'] == 'Movie']\n",
        "\n",
        "print(movie_df)\n"
      ]
    },
    {
      "cell_type": "code",
      "execution_count": 10,
      "metadata": {
        "id": "IrdOdxeI6pCM",
        "colab": {
          "base_uri": "https://localhost:8080/"
        },
        "outputId": "dab9cd9a-4cac-4f52-e138-0cb62d0eea5d"
      },
      "outputs": [
        {
          "output_type": "stream",
          "name": "stdout",
          "text": [
            "     show_id     type                  title         director  \\\n",
            "0         s1    Movie   Dick Johnson Is Dead  Kirsten Johnson   \n",
            "1         s2  TV Show          Blood & Water              NaN   \n",
            "2         s3  TV Show              Ganglands  Julien Leclercq   \n",
            "3         s4  TV Show  Jailbirds New Orleans              NaN   \n",
            "4         s5  TV Show           Kota Factory              NaN   \n",
            "...      ...      ...                    ...              ...   \n",
            "8802   s8803    Movie                 Zodiac    David Fincher   \n",
            "8803   s8804  TV Show            Zombie Dumb              NaN   \n",
            "8804   s8805    Movie             Zombieland  Ruben Fleischer   \n",
            "8805   s8806    Movie                   Zoom     Peter Hewitt   \n",
            "8806   s8807    Movie                 Zubaan      Mozez Singh   \n",
            "\n",
            "                                                   cast        country  \\\n",
            "0                                                   NaN  United States   \n",
            "1     Ama Qamata, Khosi Ngema, Gail Mabalane, Thaban...   South Africa   \n",
            "2     Sami Bouajila, Tracy Gotoas, Samuel Jouy, Nabi...            NaN   \n",
            "3                                                   NaN            NaN   \n",
            "4     Mayur More, Jitendra Kumar, Ranjan Raj, Alam K...          India   \n",
            "...                                                 ...            ...   \n",
            "8802  Mark Ruffalo, Jake Gyllenhaal, Robert Downey J...  United States   \n",
            "8803                                                NaN            NaN   \n",
            "8804  Jesse Eisenberg, Woody Harrelson, Emma Stone, ...  United States   \n",
            "8805  Tim Allen, Courteney Cox, Chevy Chase, Kate Ma...  United States   \n",
            "8806  Vicky Kaushal, Sarah-Jane Dias, Raaghav Chanan...          India   \n",
            "\n",
            "              date_added  release_year rating   duration  \\\n",
            "0     September 25, 2021          2020  PG-13     90 min   \n",
            "1     September 24, 2021          2021  TV-MA  2 Seasons   \n",
            "2     September 24, 2021          2021  TV-MA   1 Season   \n",
            "3     September 24, 2021          2021  TV-MA   1 Season   \n",
            "4     September 24, 2021          2021  TV-MA  2 Seasons   \n",
            "...                  ...           ...    ...        ...   \n",
            "8802   November 20, 2019          2007      R    158 min   \n",
            "8803        July 1, 2019          2018  TV-Y7  2 Seasons   \n",
            "8804    November 1, 2019          2009      R     88 min   \n",
            "8805    January 11, 2020          2006     PG     88 min   \n",
            "8806       March 2, 2019          2015  TV-14    111 min   \n",
            "\n",
            "                                              listed_in  \\\n",
            "0                                         Documentaries   \n",
            "1       International TV Shows, TV Dramas, TV Mysteries   \n",
            "2     Crime TV Shows, International TV Shows, TV Act...   \n",
            "3                                Docuseries, Reality TV   \n",
            "4     International TV Shows, Romantic TV Shows, TV ...   \n",
            "...                                                 ...   \n",
            "8802                     Cult Movies, Dramas, Thrillers   \n",
            "8803             Kids' TV, Korean TV Shows, TV Comedies   \n",
            "8804                            Comedies, Horror Movies   \n",
            "8805                 Children & Family Movies, Comedies   \n",
            "8806     Dramas, International Movies, Music & Musicals   \n",
            "\n",
            "                                            description  \n",
            "0     As her father nears the end of his life, filmm...  \n",
            "1     After crossing paths at a party, a Cape Town t...  \n",
            "2     To protect his family from a powerful drug lor...  \n",
            "3     Feuds, flirtations and toilet talk go down amo...  \n",
            "4     In a city of coaching centers known to train I...  \n",
            "...                                                 ...  \n",
            "8802  A political cartoonist, a crime reporter and a...  \n",
            "8803  While living alone in a spooky town, a young g...  \n",
            "8804  Looking to survive in a world taken over by zo...  \n",
            "8805  Dragged from civilian life, a former superhero...  \n",
            "8806  A scrappy but poor boy worms his way into a ty...  \n",
            "\n",
            "[8807 rows x 12 columns]\n"
          ]
        }
      ],
      "source": [
        "# 6 (7 marks). For every movie where the duration is missing, replace it with the average\n",
        "  # duration of the movies in the dataset.\n",
        "average_duration = netflix_df[netflix_df['type'] == 'Movie']['duration'].str.extract('(\\d+)').astype(float).mean()\n",
        "average_duration = int(average_duration)\n",
        "\n",
        "netflix_df.loc[(netflix_df['type'] == 'Movie') & (netflix_df['duration'].isna()), 'duration'] = f'{average_duration} min'\n",
        "\n",
        "print(netflix_df)"
      ]
    },
    {
      "cell_type": "code",
      "execution_count": null,
      "metadata": {
        "id": "a_fGuLdj54ao"
      },
      "outputs": [],
      "source": [
        "# 7 (3 marks). Are there any duplicates in the data? If yes, please remove them.\n",
        "duplicates_exist = netflix_df.duplicated().any()\n",
        "\n",
        "if duplicates_exist:\n",
        "  netflix_df = netflix_df.drop_duplicates()\n",
        "  print('Duplicates removed')\n",
        "else:\n",
        "  print('No duplicates found')\n",
        "\n",
        "print(netflix_df)"
      ]
    },
    {
      "cell_type": "code",
      "execution_count": 28,
      "metadata": {
        "id": "3QGZWzyo7uZd",
        "colab": {
          "base_uri": "https://localhost:8080/"
        },
        "outputId": "4987d685-3f00-4dc3-8109-ce6b1256bf3d"
      },
      "outputs": [
        {
          "output_type": "stream",
          "name": "stdout",
          "text": [
            "   Sh       Ty                     Ti               Di  \\\n",
            "0  s1    Movie   Dick Johnson Is Dead  Kirsten Johnson   \n",
            "1  s2  TV Show          Blood & Water              NaN   \n",
            "2  s3  TV Show              Ganglands  Julien Leclercq   \n",
            "3  s4  TV Show  Jailbirds New Orleans              NaN   \n",
            "4  s5  TV Show           Kota Factory              NaN   \n",
            "\n",
            "                                                  Ca             Co  \\\n",
            "0                                                NaN  United States   \n",
            "1  Ama Qamata, Khosi Ngema, Gail Mabalane, Thaban...   South Africa   \n",
            "2  Sami Bouajila, Tracy Gotoas, Samuel Jouy, Nabi...            NaN   \n",
            "3                                                NaN            NaN   \n",
            "4  Mayur More, Jitendra Kumar, Ranjan Raj, Alam K...          India   \n",
            "\n",
            "                   Da    Re     Ra         Du  \\\n",
            "0  September 25, 2021  2020  PG-13     90 min   \n",
            "1  September 24, 2021  2021  TV-MA  2 Seasons   \n",
            "2  September 24, 2021  2021  TV-MA   1 Season   \n",
            "3  September 24, 2021  2021  TV-MA   1 Season   \n",
            "4  September 24, 2021  2021  TV-MA  2 Seasons   \n",
            "\n",
            "                                                  Li  \\\n",
            "0                                      Documentaries   \n",
            "1    International TV Shows, TV Dramas, TV Mysteries   \n",
            "2  Crime TV Shows, International TV Shows, TV Act...   \n",
            "3                             Docuseries, Reality TV   \n",
            "4  International TV Shows, Romantic TV Shows, TV ...   \n",
            "\n",
            "                                                  De  \n",
            "0  As her father nears the end of his life, filmm...  \n",
            "1  After crossing paths at a party, a Cape Town t...  \n",
            "2  To protect his family from a powerful drug lor...  \n",
            "3  Feuds, flirtations and toilet talk go down amo...  \n",
            "4  In a city of coaching centers known to train I...  \n"
          ]
        }
      ],
      "source": [
        "# 8 (2 marks). Rename all columns to start with a capital letter.\n",
        "def capitalise_first_letter(s):\n",
        "  return s[0].upper() +s[1]\n",
        "\n",
        "netflix_df.rename(columns=capitalise_first_letter, inplace=True)\n",
        "\n",
        "print(netflix_df.head())"
      ]
    },
    {
      "cell_type": "code",
      "execution_count": null,
      "metadata": {
        "id": "t4XEgBGY7YvQ"
      },
      "outputs": [],
      "source": [
        "# 9 (1 mark). Save the cleaned dataset as a new csv file.\n"
      ]
    },
    {
      "cell_type": "markdown",
      "metadata": {
        "id": "JTMhy9u9-kC0"
      },
      "source": [
        "2. MATPLOTLIB (25 points)\n",
        "\n",
        "Use the netflix dataset to solve the exercises in this section."
      ]
    },
    {
      "cell_type": "code",
      "execution_count": 17,
      "metadata": {
        "id": "aDyc4KiP-mUI",
        "colab": {
          "base_uri": "https://localhost:8080/",
          "height": 711
        },
        "outputId": "2d0c1341-3a66-4ae0-d23e-a1e134f83542"
      },
      "outputs": [
        {
          "output_type": "stream",
          "name": "stderr",
          "text": [
            "<ipython-input-17-e6833c98195c>:6: SettingWithCopyWarning: \n",
            "A value is trying to be set on a copy of a slice from a DataFrame.\n",
            "Try using .loc[row_indexer,col_indexer] = value instead\n",
            "\n",
            "See the caveats in the documentation: https://pandas.pydata.org/pandas-docs/stable/user_guide/indexing.html#returning-a-view-versus-a-copy\n",
            "  movie_df['release_year'] = movie_df['release_year'].fillna(0).astype(int)\n"
          ]
        },
        {
          "output_type": "display_data",
          "data": {
            "text/plain": [
              "<Figure size 1200x600 with 1 Axes>"
            ],
            "image/png": "[encoded data removed]"
          },
          "metadata": {}
        }
      ],
      "source": [
        "# 1 (10 marks). Create a visualisation which shows the frequency of movies by year of release.\n",
        "import matplotlib.pyplot as plt\n",
        "\n",
        "movie_df = netflix_df[netflix_df['type'] == 'Movie']\n",
        "\n",
        "movie_df['release_year'] = movie_df['release_year'].fillna(0).astype(int)\n",
        "movie_df = movie_df[movie_df['release_year'] > 0]\n",
        "\n",
        "year_counts = movie_df['release_year'].value_counts().sort_index()\n",
        "\n",
        "plt.figure(figsize=(12, 6))\n",
        "year_counts.plot(kind='bar')\n",
        "plt.xlabel('Release Year')\n",
        "plt.ylabel('Number of Movies')\n",
        "plt.title('Frequesncy of movies by year of release')\n",
        "plt.xticks(rotation=45)\n",
        "plt.tight_layout()\n",
        "plt.show()"
      ]
    },
    {
      "cell_type": "code",
      "execution_count": 14,
      "metadata": {
        "id": "FH38L0EZ_PMl",
        "colab": {
          "base_uri": "https://localhost:8080/",
          "height": 521
        },
        "outputId": "81c26529-033f-45aa-ff29-39baa31d13a9"
      },
      "outputs": [
        {
          "output_type": "display_data",
          "data": {
            "text/plain": [
              "<Figure size 800x600 with 1 Axes>"
            ],
            "image/png": "[encoded data removed]"
          },
          "metadata": {}
        }
      ],
      "source": [
        "# 2 (15 marks). Create a pie chart which shows the 5 top most popular genres of the movis\n",
        "  # in the dataset.\n",
        "import matplotlib.pyplot as plt\n",
        "movie_df = netflix_df[netflix_df['type'] == 'Movie']\n",
        "genre_counts = movie_df['listed_in'].str.split(', ').explode().value_counts()\n",
        "\n",
        "top_genres = genre_counts.head(5)\n",
        "\n",
        "plt.figure(figsize=(8,6))\n",
        "plt.pie(top_genres, labels=top_genres.index, autopct='%1.1f%%', startangle=140)\n",
        "plt.title('Top 5 most popular genres of movies')\n",
        "plt.axis('equal')\n",
        "plt.show()\n",
        "\n"
      ]
    },
    {
      "cell_type": "markdown",
      "metadata": {
        "id": "oKIh4oFe8GNC"
      },
      "source": [
        "3. NUMPY (25 points)"
      ]
    },
    {
      "cell_type": "code",
      "execution_count": 18,
      "metadata": {
        "id": "xQ1F5b_38Mfy",
        "colab": {
          "base_uri": "https://localhost:8080/"
        },
        "outputId": "2ee370af-f6c1-4205-a843-a351ba19e8ad"
      },
      "outputs": [
        {
          "output_type": "execute_result",
          "data": {
            "text/plain": [
              "array([  0,  56,  82, 500, 140,  43,  92,  10,  25,  11,  18,  26, 150,\n",
              "       240, 364, 196])"
            ]
          },
          "metadata": {},
          "execution_count": 18
        }
      ],
      "source": [
        "# 1 (2 marks). Running the code in this cell throws an error. Why do we get this error\n",
        "  # and how do we fix it? needed to import numpy\n",
        "\n",
        "# use this numpy array for all exercises in this section\n",
        "import numpy as np\n",
        "arr = np.array([0, 56, 82, 500, 140, 43, 92, 10, 25, 11, 18, 26, 150, 240, 364, 196])\n",
        "arr"
      ]
    },
    {
      "cell_type": "code",
      "execution_count": 20,
      "metadata": {
        "id": "zCs7-t1B9RJH",
        "colab": {
          "base_uri": "https://localhost:8080/"
        },
        "outputId": "0a149a30-b063-4913-a6cf-1fc6820a1777"
      },
      "outputs": [
        {
          "output_type": "stream",
          "name": "stdout",
          "text": [
            "Number of odd numbers are: 3\n"
          ]
        }
      ],
      "source": [
        "# 2 (5 marks). How many odd numbers do we have in the array?\n",
        "odd_count = np.count_nonzero(arr % 2 == 1)\n",
        "\n",
        "print('Number of odd numbers are:', odd_count)\n"
      ]
    },
    {
      "cell_type": "code",
      "execution_count": 21,
      "metadata": {
        "id": "jit5LWmn8nww",
        "colab": {
          "base_uri": "https://localhost:8080/"
        },
        "outputId": "2c1d304a-fa1e-4a68-8d35-83db87da3450"
      },
      "outputs": [
        {
          "output_type": "stream",
          "name": "stdout",
          "text": [
            "This is array after replacing the odd numbers: [  0  56  82 500 140 999  92  10 999 999  18  26 150 240 364 196]\n"
          ]
        }
      ],
      "source": [
        "# 3 (5 marks). Replace all odd numbers in arr with 999\n",
        "arr[arr % 2 == 1] = 999\n",
        "\n",
        "print('This is array after replacing the odd numbers:', arr)"
      ]
    },
    {
      "cell_type": "code",
      "execution_count": 25,
      "metadata": {
        "id": "3viG4_0R9Z7l",
        "colab": {
          "base_uri": "https://localhost:8080/"
        },
        "outputId": "1b4588be-3f8f-4dfd-b1a8-6e5212db641a"
      },
      "outputs": [
        {
          "output_type": "stream",
          "name": "stdout",
          "text": [
            "[[[[ 56   0]\n",
            "   [999 140]]\n",
            "\n",
            "  [[500  82]\n",
            "   [ 10  92]]]\n",
            "\n",
            "\n",
            " [[[999 999]\n",
            "   [240 150]]\n",
            "\n",
            "  [[ 26  18]\n",
            "   [196 364]]]]\n"
          ]
        }
      ],
      "source": [
        "# 4 (8 marks). The above is a 1D array. Convert it into a 4D array and reverse its columns.\n",
        "\n",
        "# Desired output\n",
        "# > array([[560,  82,  56,   0],\n",
        "# >        [ 10,  92, 999, 140],\n",
        "# >        [ 26,  18, 999, 999],\n",
        "# >        [196, 364, 240, 150]])\n",
        "\n",
        "\n",
        "\n",
        "reshaped_arr = arr.reshape(2, 2, 2, 2)\n",
        "\n",
        "reversed_arr = reshaped_arr[:, :, :, ::-1]\n",
        "\n",
        "arr_swapped = np.swapaxes(reversed_arr, 1, 2)\n",
        "\n",
        "print(arr_swapped)"
      ]
    },
    {
      "cell_type": "code",
      "execution_count": 27,
      "metadata": {
        "id": "VmuhT2VM90G9",
        "colab": {
          "base_uri": "https://localhost:8080/"
        },
        "outputId": "2fd8217f-176f-45aa-d858-172b8a9a3cfa"
      },
      "outputs": [
        {
          "output_type": "stream",
          "name": "stdout",
          "text": [
            "Filtered values: [500 140 150 240 364 196]\n"
          ]
        }
      ],
      "source": [
        "# 5 (5 marks). Find all values which are higher than 100 and lower or equal than 500.\n",
        "filtered_values = arr[(arr > 100) & (arr <=500)]\n",
        "print('Filtered values:', filtered_values)"
      ]
    },
    {
      "cell_type": "code",
      "source": [],
      "metadata": {
        "id": "RxwXToIa7vKg"
      },
      "execution_count": 26,
      "outputs": []
    }
  ],
  "metadata": {
    "colab": {
      "provenance": []
    },
    "kernelspec": {
      "display_name": "Python 3",
      "name": "python3"
    },
    "language_info": {
      "name": "python"
    }
  },
  "nbformat": 4,
  "nbformat_minor": 0
}